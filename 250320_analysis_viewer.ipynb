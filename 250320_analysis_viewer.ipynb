{
 "cells": [
  {
   "cell_type": "code",
   "execution_count": 48,
   "metadata": {},
   "outputs": [],
   "source": [
    "import os\n",
    "from nd2reader import ND2Reader\n",
    "import napari\n",
    "import numpy as np\n",
    "from cellpose import models\n",
    "from skimage.measure import regionprops_table\n",
    "from skimage.io import imsave, imread\n",
    "from skimage.segmentation import clear_border\n",
    "from skimage.transform import resize\n",
    "from skimage.morphology import remove_small_objects\n",
    "import pandas as pd\n",
    "from skimage.feature import blob_dog\n",
    "from utils import sharpest_frame_laplacian"
   ]
  },
  {
   "cell_type": "code",
   "execution_count": 53,
   "metadata": {},
   "outputs": [],
   "source": [
    "data_dir = r'I:\\CBI\\Kasia\\data_analysis\\2025_Fouquerel\\data\\53BP1 IF cenpB FISH -Lily'\n",
    "masks_dir = r'I:\\CBI\\Kasia\\data_analysis\\2025_Fouquerel\\analysis\\250320_nuclei_masks'\n",
    "file_name = 'Batch Deconvolution_000_clone14_untransfected_20minDL_24h_005.nd2'"
   ]
  },
  {
   "cell_type": "code",
   "execution_count": 56,
   "metadata": {},
   "outputs": [
    {
     "data": {
      "text/html": [
       "<div>\n",
       "<style scoped>\n",
       "    .dataframe tbody tr th:only-of-type {\n",
       "        vertical-align: middle;\n",
       "    }\n",
       "\n",
       "    .dataframe tbody tr th {\n",
       "        vertical-align: top;\n",
       "    }\n",
       "\n",
       "    .dataframe thead th {\n",
       "        text-align: right;\n",
       "    }\n",
       "</style>\n",
       "<table border=\"1\" class=\"dataframe\">\n",
       "  <thead>\n",
       "    <tr style=\"text-align: right;\">\n",
       "      <th></th>\n",
       "      <th>y</th>\n",
       "      <th>x</th>\n",
       "      <th>r</th>\n",
       "      <th>cell</th>\n",
       "    </tr>\n",
       "  </thead>\n",
       "  <tbody>\n",
       "    <tr>\n",
       "      <th>0</th>\n",
       "      <td>1893.0</td>\n",
       "      <td>1239.0</td>\n",
       "      <td>2.0</td>\n",
       "      <td>13</td>\n",
       "    </tr>\n",
       "    <tr>\n",
       "      <th>1</th>\n",
       "      <td>1560.0</td>\n",
       "      <td>1417.0</td>\n",
       "      <td>2.0</td>\n",
       "      <td>8</td>\n",
       "    </tr>\n",
       "    <tr>\n",
       "      <th>2</th>\n",
       "      <td>1909.0</td>\n",
       "      <td>1646.0</td>\n",
       "      <td>2.0</td>\n",
       "      <td>11</td>\n",
       "    </tr>\n",
       "    <tr>\n",
       "      <th>3</th>\n",
       "      <td>1864.0</td>\n",
       "      <td>664.0</td>\n",
       "      <td>2.0</td>\n",
       "      <td>12</td>\n",
       "    </tr>\n",
       "    <tr>\n",
       "      <th>4</th>\n",
       "      <td>1894.0</td>\n",
       "      <td>578.0</td>\n",
       "      <td>2.0</td>\n",
       "      <td>12</td>\n",
       "    </tr>\n",
       "    <tr>\n",
       "      <th>...</th>\n",
       "      <td>...</td>\n",
       "      <td>...</td>\n",
       "      <td>...</td>\n",
       "      <td>...</td>\n",
       "    </tr>\n",
       "    <tr>\n",
       "      <th>322</th>\n",
       "      <td>330.0</td>\n",
       "      <td>1000.0</td>\n",
       "      <td>2.0</td>\n",
       "      <td>1</td>\n",
       "    </tr>\n",
       "    <tr>\n",
       "      <th>323</th>\n",
       "      <td>1562.0</td>\n",
       "      <td>1893.0</td>\n",
       "      <td>2.0</td>\n",
       "      <td>9</td>\n",
       "    </tr>\n",
       "    <tr>\n",
       "      <th>324</th>\n",
       "      <td>1238.0</td>\n",
       "      <td>462.0</td>\n",
       "      <td>2.0</td>\n",
       "      <td>7</td>\n",
       "    </tr>\n",
       "    <tr>\n",
       "      <th>325</th>\n",
       "      <td>531.0</td>\n",
       "      <td>1935.0</td>\n",
       "      <td>2.0</td>\n",
       "      <td>3</td>\n",
       "    </tr>\n",
       "    <tr>\n",
       "      <th>326</th>\n",
       "      <td>894.0</td>\n",
       "      <td>1562.0</td>\n",
       "      <td>2.0</td>\n",
       "      <td>5</td>\n",
       "    </tr>\n",
       "  </tbody>\n",
       "</table>\n",
       "<p>327 rows × 4 columns</p>\n",
       "</div>"
      ],
      "text/plain": [
       "          y       x    r  cell\n",
       "0    1893.0  1239.0  2.0    13\n",
       "1    1560.0  1417.0  2.0     8\n",
       "2    1909.0  1646.0  2.0    11\n",
       "3    1864.0   664.0  2.0    12\n",
       "4    1894.0   578.0  2.0    12\n",
       "..      ...     ...  ...   ...\n",
       "322   330.0  1000.0  2.0     1\n",
       "323  1562.0  1893.0  2.0     9\n",
       "324  1238.0   462.0  2.0     7\n",
       "325   531.0  1935.0  2.0     3\n",
       "326   894.0  1562.0  2.0     5\n",
       "\n",
       "[327 rows x 4 columns]"
      ]
     },
     "execution_count": 56,
     "metadata": {},
     "output_type": "execute_result"
    }
   ],
   "source": [
    "df_foci1"
   ]
  },
  {
   "cell_type": "code",
   "execution_count": 57,
   "metadata": {},
   "outputs": [],
   "source": [
    "# read in the data\n",
    "\n",
    "df_cell = pd.read_csv(os.path.join(masks_dir, file_name.replace('.nd2', '_cell_data.csv')))\n",
    "df_foci1 = pd.read_csv(os.path.join(masks_dir, file_name.replace('.nd2', '_foci1_data.csv')))\n",
    "df_foci2 = pd.read_csv(os.path.join(masks_dir, file_name.replace('.nd2', '_foci2_data.csv')))\n",
    "\n",
    "# drop foci from the background\n",
    "df_foci1 = df_foci1[df_foci1['cell'] != 0]\n",
    "df_foci2 = df_foci2[df_foci2['cell'] != 0]\n",
    "\n",
    "masks = imread(os.path.join(masks_dir, file_name.replace('.nd2', '_mask.png')))\n",
    "\n",
    "im_path = os.path.join(data_dir, file_name)\n",
    "t = ND2Reader(im_path)\n",
    "sharpest_index = df_cell.loc[0,'frame']\n",
    "dapi_im = t.get_frame_2D(c=0, z=sharpest_index)\n",
    "foci1_im = t.get_frame_2D(c=1, z=sharpest_index)\n",
    "foci2_im = t.get_frame_2D(c=2, z=sharpest_index)\n",
    "\n",
    "dapi_stack = np.array([t.get_frame_2D(c=0, z=z) for z in range(t.sizes['z'])])\n",
    "foci1_stack = np.array([t.get_frame_2D(c=1, z=z) for z in range(t.sizes['z'])])\n",
    "foci2_stack = np.array([t.get_frame_2D(c=2, z=z) for z in range(t.sizes['z'])])"
   ]
  },
  {
   "cell_type": "code",
   "execution_count": 58,
   "metadata": {},
   "outputs": [],
   "source": [
    "viewer = napari.Viewer()\n",
    "viewer.add_image(dapi_stack,blending='additive', colormap='blue', name='DAPI',visible=False)\n",
    "viewer.add_image(foci1_stack,blending='additive', colormap='green', name='foci1', visible = True)\n",
    "viewer.add_image(foci2_stack,blending='additive', colormap='red', name='foci2',visible = False)\n",
    "\n",
    "viewer.add_points(df_foci1.loc[:,['y','x']], size=5, face_color='green', name='foci1')\n",
    "viewer.add_points(df_foci2.loc[:,['y','x']], size=5, face_color='red', name='foci2')\n",
    "\n",
    "viewer.add_labels(masks, name='masks', visible=False)\n",
    "\n",
    "# set slider position\n",
    "viewer.dims.set_point(0, sharpest_index)"
   ]
  },
  {
   "cell_type": "code",
   "execution_count": 59,
   "metadata": {},
   "outputs": [],
   "source": [
    "df_foci2_fake = pd.read_csv(os.path.join(masks_dir, file_name.replace('.nd2', '_foci2_ctrl_data.csv')))\n",
    "\n",
    "# drop foci from the background\n",
    "df_foci2_fake = df_foci2_fake[df_foci2_fake['cell'] != 0]"
   ]
  },
  {
   "cell_type": "code",
   "execution_count": 60,
   "metadata": {},
   "outputs": [
    {
     "data": {
      "text/plain": [
       "<Points layer 'foci2_ctrl' at 0x198228ebb10>"
      ]
     },
     "execution_count": 60,
     "metadata": {},
     "output_type": "execute_result"
    }
   ],
   "source": [
    "viewer.add_points(df_foci2_fake.loc[:,['y','x']], size=5, face_color='white', name='foci2_ctrl')"
   ]
  },
  {
   "cell_type": "code",
   "execution_count": null,
   "metadata": {},
   "outputs": [],
   "source": []
  }
 ],
 "metadata": {
  "kernelspec": {
   "display_name": "cellpose-env",
   "language": "python",
   "name": "python3"
  },
  "language_info": {
   "codemirror_mode": {
    "name": "ipython",
    "version": 3
   },
   "file_extension": ".py",
   "mimetype": "text/x-python",
   "name": "python",
   "nbconvert_exporter": "python",
   "pygments_lexer": "ipython3",
   "version": "3.11.11"
  }
 },
 "nbformat": 4,
 "nbformat_minor": 2
}
